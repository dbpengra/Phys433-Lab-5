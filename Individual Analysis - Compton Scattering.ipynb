{
 "cells": [
  {
   "cell_type": "markdown",
   "metadata": {},
   "source": [
    "# Individual Analysis - Compton Scattering\n",
    "\n",
    "The tasks for this experiment's analysis:\n",
    "\n",
    "1. Prior to working on this noetbook, obtain the peak positions of the main photopeaks in the calibration data sets and the positions and full-width at half maxima of the photopeaks in the Compton scattering data.  Also obtain the integrated area of the photopeaks for the Compton scattering cross section data sets.  Then create these arrays:\n",
    "   * Energy vs. photopeak position for the calibration data.\n",
    "   * Scattering angle vs. peak position for the Compton scattering data.\n",
    "   * Plastic thickness vs. photopeak area (net counts) for the cross section data.\n",
    "\n",
    "\n",
    "2. Make a line fit to the calibration data to convert channel number to energy in MeV.  Save the calibration coefficients.\n",
    "\n",
    "\n",
    "3. Create a function that will give the predicted channel number as a function of angle for the Compton-scattered photopeaks.  Then plot this prediction along with the measured photopeak positions (in channel numbers).\n",
    "\n",
    "\n",
    "4. Convert the photopeak positions and FWHM for the Compton scattering data to energy units, using the calibration coefficients.\n",
    "\n",
    "\n",
    "5. Create a fitting function, based on the expected energy vs. angle, for Compton scattering.  There should be one fit parameter: the incident energy of the gamma ray.  Use this function in the LMFIT `Model` to carry out a fit of the theoretical formula to the data.  Compare the fitted incident energy to the known incident energy from the Cs-137 source.\n",
    "\n",
    "\n",
    "6. For the total scattering cross section, plot the photopeak net area (i.e., integrated counts) versus plastic thickness (in cm) on a single-log axis (vertical).  Fit this data set (either with a line to the log of the counts, or with an exponential decay to the counts) to obtain the gamma-attenuation coeffient $\\mu$ (in cm<sup>-1</sup>) for Lucite plastic.  Then calculate the scattering cross-section per electron by means of the chemical data for Lucite (i.e., divide out the number of electrons per cm<sup>3</sup>).  "
   ]
  },
  {
   "cell_type": "code",
   "execution_count": 1,
   "metadata": {},
   "outputs": [],
   "source": [
    "import numpy as np  # import the numpy library functions.\n",
    "import scipy.constants as const # import physical constants\n",
    "import matplotlib.pyplot as plt # plotting functions\n",
    "import uncertainties as unc # Uncertainties package.  Good for simple error propagation\n",
    "# directive below puts the plots in the notebook\n",
    "%matplotlib inline"
   ]
  },
  {
   "cell_type": "markdown",
   "metadata": {},
   "source": [
    "## 1. Build the data arrays\n",
    "\n",
    "### Build the calibration arrays\n",
    "\n",
    "You may use the enrgies you recorded in the Energy Measurements lab here, but the channel data will be different."
   ]
  },
  {
   "cell_type": "code",
   "execution_count": null,
   "metadata": {},
   "outputs": [],
   "source": []
  },
  {
   "cell_type": "markdown",
   "metadata": {},
   "source": [
    "### Build the Angle vs. Energy arrays\n",
    "\n",
    "Print the data (a table is nice) to make sure you have it correctly."
   ]
  },
  {
   "cell_type": "code",
   "execution_count": null,
   "metadata": {},
   "outputs": [],
   "source": []
  },
  {
   "cell_type": "markdown",
   "metadata": {},
   "source": [
    "### Build the thickness vs. Peak counts arrays"
   ]
  },
  {
   "cell_type": "code",
   "execution_count": null,
   "metadata": {},
   "outputs": [],
   "source": []
  },
  {
   "cell_type": "markdown",
   "metadata": {},
   "source": [
    "## 2. Obtain the calibration\n",
    "\n",
    "### Fit to a line\n",
    "\n",
    "Fit the calibration data."
   ]
  },
  {
   "cell_type": "code",
   "execution_count": null,
   "metadata": {},
   "outputs": [],
   "source": []
  },
  {
   "cell_type": "markdown",
   "metadata": {},
   "source": [
    "### Save the calibration coefficients"
   ]
  },
  {
   "cell_type": "code",
   "execution_count": null,
   "metadata": {},
   "outputs": [],
   "source": []
  },
  {
   "cell_type": "markdown",
   "metadata": {},
   "source": [
    "## 3. Calculate the expected channel position as a function of angle\n",
    "\n",
    "Write a function, given the channel position of the Cs-137 gamma energy, the scattering angle, and the known energy of the Cs-137 gamma ray that returns the expected channel postion of the Compton-scattered peak.  Then print a table of these positions at angles 20, 30, ..., 140 degrees.\n",
    "\n",
    "The energy vs. angle formula, from Leo section 2.7:\n",
    "\n",
    "$$E^{\\prime}_{\\gamma} = \\frac{E_{\\gamma}}{1+\\frac{E_{\\gamma}}{m_0c^2}\\left(1-\\cos\\theta\\right)}$$\n",
    "\n",
    "So if the scattering angle is zero, the scattered energy $E_{\\gamma}^{\\prime}$ equals the incident energy $E_{\\gamma}$. The channel numbers should be proportional to the energy."
   ]
  },
  {
   "cell_type": "code",
   "execution_count": null,
   "metadata": {},
   "outputs": [],
   "source": []
  },
  {
   "cell_type": "markdown",
   "metadata": {},
   "source": [
    "### Plot expected positions to measured positions\n",
    "\n",
    "Use `plt.errorbar()` to plot the FWHM as error bars on the measured peak positions."
   ]
  },
  {
   "cell_type": "code",
   "execution_count": null,
   "metadata": {
    "scrolled": false
   },
   "outputs": [],
   "source": []
  },
  {
   "cell_type": "markdown",
   "metadata": {},
   "source": [
    "## 4. Convert channels to energy\n",
    "\n",
    "Use the calibration coefficients found earlier to convert channel numbers to energy in MeV.  Convert both peak positions and peak widths."
   ]
  },
  {
   "cell_type": "code",
   "execution_count": null,
   "metadata": {},
   "outputs": [],
   "source": []
  },
  {
   "cell_type": "markdown",
   "metadata": {},
   "source": [
    "## 5. Fit the data to the Compton scattering prediction\n",
    "\n",
    "Ues the basic LMFIT `Model` to build a \"model\" around the Compton scattering predition for scattered energy vs. scattering angle."
   ]
  },
  {
   "cell_type": "code",
   "execution_count": null,
   "metadata": {},
   "outputs": [],
   "source": []
  },
  {
   "cell_type": "markdown",
   "metadata": {},
   "source": [
    "### Print the fitted energy\n",
    "\n",
    "In your Group Document, compare this to the expected gamma energy"
   ]
  },
  {
   "cell_type": "code",
   "execution_count": null,
   "metadata": {},
   "outputs": [],
   "source": []
  },
  {
   "cell_type": "markdown",
   "metadata": {},
   "source": [
    "## 6. Analyze the total cross-section data\n",
    "\n",
    "### Plot the photopeak area vs. plastic thickness\n",
    "\n",
    "On a semilog scale (vertical) it should look linear."
   ]
  },
  {
   "cell_type": "code",
   "execution_count": null,
   "metadata": {},
   "outputs": [],
   "source": []
  },
  {
   "cell_type": "markdown",
   "metadata": {},
   "source": [
    "### Fit the data to obtain the absorption coefficient $\\mu$\n",
    "\n",
    "Either fit a line to the log of the photopeak area, or an exponential to the un-modified data, and obtain the coefficient (what are the units?)."
   ]
  },
  {
   "cell_type": "code",
   "execution_count": null,
   "metadata": {},
   "outputs": [],
   "source": []
  },
  {
   "cell_type": "markdown",
   "metadata": {},
   "source": [
    "### Obtain $\\mu$ and calculate $\\sigma_C$\n",
    "\n",
    "From the fit result, obtain the absorption coefficient.  Then from the chemical composition of Lucite (acrylic plastic), determine the electron density, and use this to calculate the total Compton scettering cross section per electron.  Compare this result to the Klein-Nishina equation prediction, either from the graph in Leo or calculation from the formula.  "
   ]
  },
  {
   "cell_type": "code",
   "execution_count": null,
   "metadata": {},
   "outputs": [],
   "source": []
  }
 ],
 "metadata": {
  "kernelspec": {
   "display_name": "Python 3",
   "language": "python",
   "name": "python3"
  },
  "language_info": {
   "codemirror_mode": {
    "name": "ipython",
    "version": 3
   },
   "file_extension": ".py",
   "mimetype": "text/x-python",
   "name": "python",
   "nbconvert_exporter": "python",
   "pygments_lexer": "ipython3",
   "version": "3.7.3"
  }
 },
 "nbformat": 4,
 "nbformat_minor": 2
}
